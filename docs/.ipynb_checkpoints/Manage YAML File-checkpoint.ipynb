{
 "cells": [
  {
   "cell_type": "code",
   "execution_count": 1,
   "metadata": {},
   "outputs": [
    {
     "name": "stdout",
     "output_type": "stream",
     "text": [
      "sys.version_info(major=3, minor=7, micro=0, releaselevel='final', serial=0)\n"
     ]
    }
   ],
   "source": [
    "import sys\n",
    "print(sys.version_info)"
   ]
  },
  {
   "cell_type": "code",
   "execution_count": 27,
   "metadata": {},
   "outputs": [],
   "source": [
    "import yaml"
   ]
  },
  {
   "cell_type": "code",
   "execution_count": 50,
   "metadata": {},
   "outputs": [],
   "source": [
    "stream = open(\"../src/html/data/site.yml\", 'r')\n",
    "doc = yaml.load(stream)"
   ]
  },
  {
   "cell_type": "code",
   "execution_count": 51,
   "metadata": {},
   "outputs": [
    {
     "name": "stdout",
     "output_type": "stream",
     "text": [
      "['Contests', 'Surveys', 'Product promotion', 'Lead generation', {'Events': ['Event promotion', '3rd party ticketing and event management API integration', 'Progressive web application', 'Audience participation and feedback']}, {'Ecommerce': ['snipcart - ecommerce', 'Product dedicated sites', 'Integrate with third-party ecommerce providers']}]\n"
     ]
    }
   ],
   "source": [
    "print(doc['services'][0]['items'])"
   ]
  },
  {
   "cell_type": "code",
   "execution_count": 52,
   "metadata": {},
   "outputs": [
    {
     "name": "stdout",
     "output_type": "stream",
     "text": [
      "[{'title': 'Micro Sites', 'summary': 'What is a micro site?', 'items': ['Contests', 'Surveys', 'Product promotion', 'Lead generation', {'Events': ['Event promotion', '3rd party ticketing and event management API integration', 'Progressive web application', 'Audience participation and feedback']}, {'Ecommerce': ['snipcart - ecommerce', 'Product dedicated sites', 'Integrate with third-party ecommerce providers']}], 'technology': ['Cloud based', '3rd party integration']}, {'title': 'Headless Wordpress Development', 'summary': 'headless wordpress development', 'items': ['Liberate your content', 'Scale your site', 'Multiple sites with shared content', 'Leverage WordPress.com', 'Maximize your front-end developers'], 'technology': ['wordpress.com', 'cloud services']}, {'title': 'Analytics', 'summary': 'site analytics', 'items': ['Custom tags', 'Configuration and implementation', 'Dashboards', 'Training', 'Custom integration with internal tools'], 'technology': ['Google Webmaster tools', 'Google Analytics']}]\n"
     ]
    }
   ],
   "source": [
    "print(doc['services'])"
   ]
  },
  {
   "cell_type": "code",
   "execution_count": 53,
   "metadata": {},
   "outputs": [
    {
     "name": "stdout",
     "output_type": "stream",
     "text": [
      "['Development and marketing experience', 'Web development']\n"
     ]
    }
   ],
   "source": [
    "print(doc['experience'])"
   ]
  },
  {
   "cell_type": "code",
   "execution_count": 55,
   "metadata": {},
   "outputs": [
    {
     "name": "stdout",
     "output_type": "stream",
     "text": [
      "[{'title': 'Structured Data', 'site': 'https://developers.google.com/search/docs/guides/intro-structured-data?visit_id=1-636653566408759923-1263733777&hl=en&rd=1'}, {'title': 'Google Search Configuration', 'site': 'https://developers.google.com/search/'}, {'title': 'Free Google Business Site', 'site': 'https://www.google.com/business/how-it-works/website/'}, {'title': 'Integrate My Business Tools', 'site': 'https://developers.google.com/my-business/?hl=en'}, {'title': 'OpenGraph tools', 'site': 'https://megatags.co'}]\n"
     ]
    }
   ],
   "source": [
    "print(doc['resources'])"
   ]
  },
  {
   "cell_type": "code",
   "execution_count": null,
   "metadata": {},
   "outputs": [],
   "source": []
  }
 ],
 "metadata": {
  "kernelspec": {
   "display_name": "Python 3",
   "language": "python",
   "name": "python3"
  },
  "language_info": {
   "codemirror_mode": {
    "name": "ipython",
    "version": 3
   },
   "file_extension": ".py",
   "mimetype": "text/x-python",
   "name": "python",
   "nbconvert_exporter": "python",
   "pygments_lexer": "ipython3",
   "version": "3.7.0"
  }
 },
 "nbformat": 4,
 "nbformat_minor": 2
}
